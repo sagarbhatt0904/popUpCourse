{
 "cells": [
  {
   "cell_type": "markdown",
   "metadata": {},
   "source": [
    "[Title - Edit?]\n",
    "# Pop-Up Course: Better metal forming by linking experiment, modeling, and process control  \n",
    "#### July 29-30, 2019\n",
    "\n",
    "## Monte Carlo Grain Growth Simulation"
   ]
  },
  {
   "cell_type": "markdown",
   "metadata": {},
   "source": [
    "[Introduction] + theory "
   ]
  },
  {
   "cell_type": "markdown",
   "metadata": {},
   "source": [
    "[Code Intro/Algo] explaination"
   ]
  },
  {
   "cell_type": "code",
   "execution_count": 103,
   "metadata": {},
   "outputs": [],
   "source": [
    "# Import required libraries\n",
    "\n",
    "import numpy as np\n",
    "import matplotlib.pyplot as plt\n",
    "from matplotlib import cm\n",
    "import matplotlib.patches as patches\n",
    "# Inline Plots\n",
    "\n",
    "%matplotlib inline"
   ]
  },
  {
   "cell_type": "code",
   "execution_count": 5,
   "metadata": {},
   "outputs": [],
   "source": [
    "# \"\"\" \n",
    "# Function to calculate distance between 2 points\n",
    "# Needs the points in form of numpy array, returns the scalar distance\n",
    "# \"\"\"\n",
    "\n",
    "# def EucDist2D(x1,x2):\n",
    "#     dist=np.linalg.norm(x1-x2)\n",
    "#     return dist"
   ]
  },
  {
   "cell_type": "code",
   "execution_count": 6,
   "metadata": {},
   "outputs": [],
   "source": [
    "# nSeeds= 1000  # Seeds to start tesselation\n",
    "# N = 100 # Square Domain size\n",
    "# N2D=N**N\n",
    "# x=np.linspace(0,N,N)\n",
    "# y=np.linspace(0,N,N)\n",
    "# seedCoord=np.zeros([nSeeds,2])\n",
    "# for i in range(0, nSeeds):\n",
    "#     seedCoord[i,0] = random.randint(0, N)\n",
    "#     seedCoord[i,1] = random.randint(0, N)"
   ]
  },
  {
   "cell_type": "code",
   "execution_count": 7,
   "metadata": {},
   "outputs": [],
   "source": [
    "# dist=np.zeros([nSeeds,1])\n",
    "# grainID=np.zeros([N,N])\n",
    "# for i in range(0,N):\n",
    "#     for j in range(0,N):\n",
    "#         minDist=float(\"inf\")\n",
    "#         for k in range(0,nSeeds):\n",
    "#             dist[k]=EucDist2D(seedCoord[k],np.array([x[i],y[j]]))\n",
    "#         grainID[i,j]=np.argmin(dist)"
   ]
  },
  {
   "cell_type": "code",
   "execution_count": 8,
   "metadata": {},
   "outputs": [
    {
     "data": {
      "image/png": "[encoded data removed]",
      "text/plain": [
       "<matplotlib.figure.Figure at 0x7f2302ff4310>"
      ]
     },
     "metadata": {},
     "output_type": "display_data"
    }
   ],
   "source": [
    "# plt.contourf(grainID,cmap=cm.jet)\n",
    "# plt.gca().set_aspect('equal', adjustable='box')"
   ]
  },
  {
   "cell_type": "markdown",
   "metadata": {},
   "source": [
    "Make a 2D square lattice:"
   ]
  },
  {
   "cell_type": "code",
   "execution_count": 225,
   "metadata": {},
   "outputs": [],
   "source": [
    "nlp=10 # number of lattice points\n",
    "N=(nlp+1)*(nlp+1)\n",
    "Q=32 #Number of states in Q-state potts model\n",
    "X=np.linspace(0,1,nlp+1)\n",
    "x,y = np.meshgrid(X,X)"
   ]
  },
  {
   "cell_type": "markdown",
   "metadata": {},
   "source": [
    "Random Initial State Matrix:"
   ]
  },
  {
   "cell_type": "code",
   "execution_count": 222,
   "metadata": {},
   "outputs": [],
   "source": [
    "state=np.random.randint(Q, size=(x.shape))\n",
    "colormatrix=np.random.rand(Q,3)"
   ]
  },
  {
   "cell_type": "markdown",
   "metadata": {},
   "source": [
    "**MCS Loop Starts here:**"
   ]
  },
  {
   "cell_type": "code",
   "execution_count": 81,
   "metadata": {},
   "outputs": [
    {
     "name": "stdout",
     "output_type": "stream",
     "text": [
      "[[ 0.  0.  0.  0.  0.  0.  0.  0.  0.  0.  0.]\n",
      " [ 0.  1.  1.  1.  1.  1.  1.  1.  1.  1.  0.]\n",
      " [ 0.  1.  1.  1.  1.  1.  1.  1.  1.  1.  0.]\n",
      " [ 0.  1.  1.  1.  1.  1.  1.  1.  1.  1.  0.]\n",
      " [ 0.  1.  1.  1.  1.  1.  1.  1.  1.  1.  0.]\n",
      " [ 0.  1.  1.  1.  1.  1.  1.  1.  1.  1.  0.]\n",
      " [ 0.  1.  1.  1.  1.  1.  1.  1.  1.  1.  0.]\n",
      " [ 0.  1.  1.  1.  1.  1.  1.  1.  1.  1.  0.]\n",
      " [ 0.  1.  1.  1.  1.  1.  1.  1.  1.  1.  0.]\n",
      " [ 0.  1.  1.  1.  1.  1.  1.  1.  1.  1.  0.]\n",
      " [ 0.  0.  0.  0.  0.  0.  0.  0.  0.  0.  0.]]\n"
     ]
    }
   ],
   "source": [
    "# Boundary detection\n",
    "isinside=np.ones(shape=(x.shape))\n",
    "for i in range(0,nlp+1):\n",
    "    for j in range(0,nlp+1):\n",
    "        if (i==0) or (j==0) or (i==nlp) or (j==nlp):\n",
    "            isinside[i][j]=0\n",
    "            \n",
    "        \n",
    "\n",
    "print(isinside)"
   ]
  },
  {
   "cell_type": "code",
   "execution_count": 224,
   "metadata": {},
   "outputs": [
    {
     "data": {
      "text/plain": [
       "array([[ 5,  8, 31, 11, 28, 14, 18, 23,  2, 30, 29],\n",
       "       [ 2,  9, 15,  6, 29,  4, 23, 21,  4, 16,  6],\n",
       "       [22,  9,  6, 19,  7,  7,  0, 28,  2, 25, 21],\n",
       "       [ 1, 30,  2, 12, 11, 11, 28, 28, 23, 10,  8],\n",
       "       [27, 21, 22, 18, 11,  3,  1, 10, 24,  0, 27],\n",
       "       [26, 17, 23, 30, 17, 30, 31, 21,  8,  2, 14],\n",
       "       [16, 15, 30, 23, 28, 13, 12, 17, 17,  7, 12],\n",
       "       [ 6, 19, 15, 26, 14, 14, 19, 21, 19, 24, 29],\n",
       "       [26, 31,  5, 19, 26,  8, 23, 19, 15, 18, 29],\n",
       "       [ 5, 26, 28, 23, 28,  3,  0, 20, 28, 10, 26],\n",
       "       [ 0, 22, 12, 30,  3,  2,  5, 23, 28, 30, 31]])"
      ]
     },
     "execution_count": 224,
     "metadata": {},
     "output_type": "execute_result"
    }
   ],
   "source": [
    "state"
   ]
  },
  {
   "cell_type": "code",
   "execution_count": null,
   "metadata": {},
   "outputs": [],
   "source": [
    "for i in range(0,N):\n",
    "    # Pick random lattice cite\n",
    "    i=np.random.randint(len(x))\n",
    "    j=np.random.randint(len(x))\n",
    "    \n",
    "    "
   ]
  },
  {
   "cell_type": "code",
   "execution_count": 218,
   "metadata": {
    "scrolled": true
   },
   "outputs": [],
   "source": [
    "# Plotting as squares\n",
    "\n",
    "# fig,ax=plt.subplots(1)\n",
    "# for i in range(0,nlp+1):\n",
    "#     for j in range(0,nlp+1):\n",
    "#         rect = patches.Rectangle((x[i,j],y[i,j]),1.0/nlp,1.0/nlp,linewidth=1,edgecolor='none',facecolor=colormatrix[state[i,j],:])\n",
    "#         ax.add_patch(rect)\n",
    "\n",
    "# plt.gca().set_aspect('equal', adjustable='box')\n"
   ]
  }
 ],
 "metadata": {
  "kernelspec": {
   "display_name": "Python 2",
   "language": "python",
   "name": "python2"
  },
  "language_info": {
   "codemirror_mode": {
    "name": "ipython",
    "version": 2
   },
   "file_extension": ".py",
   "mimetype": "text/x-python",
   "name": "python",
   "nbconvert_exporter": "python",
   "pygments_lexer": "ipython2",
   "version": "2.7.15+"
  }
 },
 "nbformat": 4,
 "nbformat_minor": 2
}
