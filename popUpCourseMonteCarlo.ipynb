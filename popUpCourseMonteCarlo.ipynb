{
 "cells": [
  {
   "cell_type": "markdown",
   "metadata": {},
   "source": [
    "[Title - Edit?]\n",
    "# Pop-Up Course: Better metal forming by linking experiment, modeling, and process control  \n",
    "#### July 29-30, 2019\n",
    "\n",
    "## Monte Carlo Grain Growth Simulation"
   ]
  },
  {
   "cell_type": "markdown",
   "metadata": {},
   "source": [
    "Grain boundaries are regions of disordered material and thus have an excess free energy associated with them. A polycrystalline material thus contains excess energy proportional to the grain boundary area, and tends to reduce this energy through grain growth. The direction of grain growth is provided by the curvature of grain boundaries, with the growth always directed towards the center of curvature. Burke\\cite{Burke1949} provided a mathematical construct for quantifying grain growth in isothermal conditions:\n",
    "\n",
    "\\begin{equation} \\label{eqn:burke-turnbull}\n",
    "D^{2}-{D_{0}}^{2} = kt\n",
    "\\end{equation}\n",
    "\n",
    "\n",
    "where $D_{0}$ and $D$ are mean grain diameters at times 0 and t respectively, and n is the grain size exponent. Equation 1 is valid in the regime of normal grain growth, in which there is no drastic change in the normalized grain size distribution. In this regime, the rate of grain growth is inversely proportional to the mean radius of curvature, which is proportional to the mean grain diameter.  In a real material, the value of n often deviates from 2 due to factors like solute segregation, non-uniform mobilities, etc. This deviation is sought after in practical materials, as many applications require the presence of grains in a particular size range, and hence a grain growth deterrent is useful. This is especially important for materials used in high temperature applications, as grain boundary mobility increases with increasing temperature.\n",
    "\n",
    "In the following two slides, we will see two different types of grain growth: An example in which $D^2 \\propto t$, and an example in which $D^n \\propto t$, where n > 2. \n",
    "\n",
    "<img src = \"GG-Examples.png\">"
   ]
  },
  {
   "cell_type": "code",
   "execution_count": 2,
   "metadata": {},
   "outputs": [
    {
     "data": {
      "image/png": "[encoded data removed]",
      "text/plain": [
       "<Figure size 432x288 with 1 Axes>"
      ]
     },
     "metadata": {},
     "output_type": "display_data"
    }
   ],
   "source": [
    "import pandas as pd\n",
    "import numpy as np\n",
    "from matplotlib import pyplot as plt\n",
    "df = pd.read_csv(\"Lin.txt\", sep = '\\t', header=None, names=['t', 'area', 'dia'])\n",
    "time = df['t']\n",
    "d = df['area']\n",
    "c1, c2, c3 = np.polyfit(time, d, 2)\n",
    "\n",
    "plt.plot(time, d, color = 'b', label = 'original')\n",
    "plt.plot(time, c3 + c2*time + c1*time*time, color = 'r', label = 'fit')\n",
    "plt.legend()\n",
    "plt.show()"
   ]
  },
  {
   "cell_type": "code",
   "execution_count": 3,
   "metadata": {},
   "outputs": [
    {
     "data": {
      "image/png": "[encoded data removed]",
      "text/plain": [
       "<Figure size 432x288 with 1 Axes>"
      ]
     },
     "metadata": {},
     "output_type": "display_data"
    }
   ],
   "source": [
    "df1 = pd.read_csv(\"NonLin.txt\", sep = '\\t', header=None, names=['t', 'area', 'dia', 'a', 'b', 'c', 'd'])\n",
    "time1 = df1['t']\n",
    "d1 = df1['area']\n",
    "c1, c2, c3, c4 = np.polyfit(time1, d1, 3)\n",
    "\n",
    "plt.plot(time1, d1, color = 'b', label = 'original')\n",
    "plt.plot(time1, c4 + c3*time1 + c2*time1*time1 + c1*time1**3, color = 'r', label = 'fit')\n",
    "plt.legend()\n",
    "plt.show()"
   ]
  },
  {
   "cell_type": "markdown",
   "metadata": {},
   "source": [
    "In a typical crystalline material, solute atoms can occupy either the substitional position or the interstitial position in the lattice. Due to the size mismatch between solute and solvent atoms, the presence of solute atoms in the lattice always leads to excess strain energy. A substitutional solute atom is also involved with new bonds with the neighboring atoms, and hence leading to a possibility of excess chemical energy. Due to these mechanical and chemical excess energies, it is often energetically favorable for the solute atoms to occupy a position in the disordered grain boundary region. This also lowers the grain boundary energy. In addition, the presence of impurities in the lattice increases the entropic component of the system and thus reduces the total Gibbs free energy. Hence, an equilibrium is obtained between solute mole fraction at the boundary and solute mole fraction in the bulk. From a thermodynamic point of view, this balance is quantitatively explained by Mclean's segregation equation f, shown in Equation 2. This relationship assumes an infinitely fast solute diffusion in the bulk region and a monolayer of solute atoms at the grain boundary. Inducing segregation at the grain boundaries by alloying is a well-known method to control grain coarsening and retard grain growth. The mechanism that is responsible for this retardation depends on the dynamics of the solute at the boundary. The excess Gibbs free energy at the grain boundaries could be reduced by the segregation of solute. Alternatively, since grain boundaries are prime locations for heterogeneous nucleation, solute atoms could precipitate to form a secondary phase at a boundary. The new precipitated phase inhibits the boundary's mobility via a drag force, also known as Zener drag. The Zener drag force could also be provided by large solute particles. Since the driving force for grain growth is proportional to the product of grain boundary mobility, energy, and curvature, grain growth is slowed down by both the above mentioned mechanisms. The model adopted in this paper assumes that grain growth is inhibited by solute segregating to boundaries, in accordance with. A few examples of experimental research that study solute segregation at boundaries are listed here. With an appropriate material design and selection of operation conditions, it is theoretically possible to reduce the grain boundary energy to zero, as demonstrated in the literature.  When the boundary energy approaches a value of zero, grain boundary velocity tends to a value of zero and the material reaches a metastable state, corresponding to a local minimum in the Gibbs free energy. "
   ]
  },
  {
   "cell_type": "markdown",
   "metadata": {},
   "source": [
    "[Code Intro/Algo] explaination"
   ]
  },
  {
   "cell_type": "code",
   "execution_count": null,
   "metadata": {},
   "outputs": [],
   "source": [
    "# Import required libraries\n",
    "\n",
    "import numpy as np\n",
    "import matplotlib.pyplot as plt\n",
    "import matplotlib.patches as patches\n",
    "from IPython import display\n",
    "import time\n",
    "\n",
    "# Inline Plots\n",
    "%matplotlib inline"
   ]
  },
  {
   "cell_type": "markdown",
   "metadata": {},
   "source": [
    "Functions to Cal"
   ]
  },
  {
   "cell_type": "markdown",
   "metadata": {},
   "source": [
    "Make a 2D square lattice:"
   ]
  },
  {
   "cell_type": "code",
   "execution_count": null,
   "metadata": {},
   "outputs": [],
   "source": [
    "nlp = 100  # number of lattice points\n",
    "N = (nlp + 1) * (nlp + 1)\n",
    "Q = N  # Number of states in Q-state potts model\n",
    "X = np.linspace(0, 1, nlp + 1)\n",
    "x, y = np.meshgrid(X, X)"
   ]
  },
  {
   "cell_type": "markdown",
   "metadata": {},
   "source": [
    "Functions:"
   ]
  },
  {
   "cell_type": "code",
   "execution_count": null,
   "metadata": {},
   "outputs": [],
   "source": [
    "\"\"\"\n",
    " Function definitions\n",
    "\"\"\"\n",
    "\n",
    "def createNeighborStateMatrix(i, j,state):\n",
    "    Jm1=j-1\n",
    "    Jp1=j+1\n",
    "    Im1=i-1\n",
    "    Ip1=i+1\n",
    "    \n",
    "    # Periodic Boundary Condition\n",
    "    if(i==0):\n",
    "        Im1=len(state)-1\n",
    "    if(i==len(state)-1):\n",
    "        Ip1=0        \n",
    "    if(j==0):\n",
    "        Jm1=len(state)-1\n",
    "    if(j==len(state)-1):\n",
    "        Jp1=0\n",
    "    # 3x3 matrix of state all cells surrounding current lattice point\n",
    "    neighborStateMatrix = np.array([[state[Im1, Jm1], state[Im1, j], state[Im1, Jp1]],\n",
    "                           [state[i, Jm1], state[i, j], state[i, Jp1]],\n",
    "                           [state[Ip1, Jm1], state[Ip1, j], state[Ip1, Jp1]]])\n",
    "    return neighborStateMatrix\n",
    "\n",
    "\n",
    "def calculateKroneckerDelta(neighborStateMatrix):\n",
    "    kd = np.zeros([1, 8])\n",
    "    if (neighborStateMatrix[1, 1] == neighborStateMatrix[0, 0]):\n",
    "        kd[0, 0] = 1\n",
    "    if (neighborStateMatrix[1, 1] == neighborStateMatrix[0, 1]):\n",
    "        kd[0, 1] = 1\n",
    "    if (neighborStateMatrix[1, 1] == neighborStateMatrix[0, 2]):\n",
    "        kd[0, 2] = 1\n",
    "    if (neighborStateMatrix[1, 1] == neighborStateMatrix[1, 2]):\n",
    "        kd[0, 3] = 1\n",
    "    if (neighborStateMatrix[1, 1] == neighborStateMatrix[2, 2]):\n",
    "        kd[0, 4] = 1\n",
    "    if (neighborStateMatrix[1, 1] == neighborStateMatrix[2, 1]):\n",
    "        kd[0, 5] = 1\n",
    "    if (neighborStateMatrix[1, 1] == neighborStateMatrix[2, 0]):\n",
    "        kd[0, 6] = 1\n",
    "    if (neighborStateMatrix[1, 1] == neighborStateMatrix[1, 0]):\n",
    "        kd[0, 7] = 1\n",
    "    return sum(sum(kd))\n",
    "\n",
    "\n",
    "def changeState(neighborStateMatrix):\n",
    "    neighborI=1\n",
    "    neighborJ=1\n",
    "    \n",
    "    while (neighborI==1) and (neighborJ==1):\n",
    "        neighborI=np.random.randint(3)\n",
    "        neighborJ=np.random.randint(3)\n",
    "        neighborStateMatrix[1,1]=neighborStateMatrix[neighborI,neighborJ];\n",
    "    return  neighborStateMatrix\n"
   ]
  },
  {
   "cell_type": "markdown",
   "metadata": {},
   "source": [
    "Matrices initialized:"
   ]
  },
  {
   "cell_type": "code",
   "execution_count": null,
   "metadata": {},
   "outputs": [],
   "source": [
    "state = np.random.randint(Q, size=(x.shape))\n",
    "colormatrix = np.random.rand(Q, 3)\n",
    "neighborStateMatrix = np.zeros([3, 3])\n",
    "\n",
    "# Boundary detection\n",
    "isinside = np.ones(shape=(x.shape))\n",
    "for i in range(0, nlp + 1):\n",
    "    for j in range(0, nlp + 1):\n",
    "        if (i == 0) or (j == 0) or (i == nlp) or (j == nlp):\n",
    "            isinside[i,j] = 0"
   ]
  },
  {
   "cell_type": "markdown",
   "metadata": {},
   "source": [
    "**MCS Loop Starts here:**"
   ]
  },
  {
   "cell_type": "code",
   "execution_count": null,
   "metadata": {
    "scrolled": true
   },
   "outputs": [],
   "source": [
    "for mcs in range(0,100):\n",
    "    for n in range(0, N):\n",
    "        # Pick random lattice cite\n",
    "        i = np.random.randint(0, len(x))\n",
    "        j = np.random.randint(0, len(x))\n",
    "        neighborStateMatrix = createNeighborStateMatrixBoundary(i, j, state)\n",
    "        energyBeforeChange = 8-calculateKroneckerDelta(neighborStateMatrix)\n",
    "        neighborStateMatrix=changeState(neighborStateMatrix)\n",
    "        energyAfterChange = 8-calculateKroneckerDelta(neighborStateMatrix)\n",
    "        dE=energyAfterChange-energyBeforeChange\n",
    "        if dE<0:\n",
    "            state[i,j]=neighborStateMatrix[1,1]\n",
    "    # Plotting as squares\n",
    "    if (mcs%10.0==0):\n",
    "        fig, ax = plt.subplots(1)\n",
    "        for i in range(0, nlp + 1):\n",
    "           for j in range(0, nlp + 1):\n",
    "               rect = patches.Rectangle((x[i, j]-(0.5 / nlp), y[i, j]-(0.5 / nlp)), 1.0 / nlp, 1.0 / nlp,linewidth=1, edgecolor='none', facecolor=colormatrix[state[i, j], :])\n",
    "               ax.add_patch(rect)\n",
    "        plt.gca().set_aspect('equal', adjustable='box')\n",
    "        display.display(plt.gcf())\n",
    "        display.clear_output(wait=True)"
   ]
  }
 ],
 "metadata": {
  "kernelspec": {
   "display_name": "Python 3",
   "language": "python",
   "name": "python3"
  },
  "language_info": {
   "codemirror_mode": {
    "name": "ipython",
    "version": 3
   },
   "file_extension": ".py",
   "mimetype": "text/x-python",
   "name": "python",
   "nbconvert_exporter": "python",
   "pygments_lexer": "ipython3",
   "version": "3.6.8"
  }
 },
 "nbformat": 4,
 "nbformat_minor": 2
}
