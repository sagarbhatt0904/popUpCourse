{
 "cells": [
  {
   "cell_type": "markdown",
   "metadata": {},
   "source": [
    "[Title - Edit?]\n",
    "# Pop-Up Course: Better metal forming by linking experiment, modeling, and process control  \n",
    "#### July 29-30, 2019\n",
    "\n",
    "## Monte Carlo Grain Growth Simulation"
   ]
  },
  {
   "cell_type": "markdown",
   "metadata": {},
   "source": [
    "[Introduction] + theory "
   ]
  },
  {
   "cell_type": "markdown",
   "metadata": {},
   "source": [
    "[Code Intro/Algo] explaination"
   ]
  },
  {
   "cell_type": "code",
   "execution_count": 68,
   "metadata": {},
   "outputs": [],
   "source": [
    "# Import required libraries\n",
    "import numpy as np\n",
    "import matplotlib.pyplot as plt\n",
    "import matplotlib.patches as patches\n",
    "from IPython import display\n",
    "import time\n",
    "\n",
    "# Inline Plots\n",
    "%matplotlib inline"
   ]
  },
  {
   "cell_type": "markdown",
   "metadata": {},
   "source": [
    "Functions to Cal"
   ]
  },
  {
   "cell_type": "markdown",
   "metadata": {},
   "source": [
    "Make a 2D square lattice:"
   ]
  },
  {
   "cell_type": "code",
   "execution_count": 69,
   "metadata": {},
   "outputs": [],
   "source": [
    "nlp = 20  # number of lattice points\n",
    "N = (nlp + 1) * (nlp + 1)\n",
    "Q = 32  # Number of states in Q-state potts model\n",
    "X = np.linspace(0, 1, nlp + 1)\n",
    "x, y = np.meshgrid(X, X)"
   ]
  },
  {
   "cell_type": "markdown",
   "metadata": {},
   "source": [
    "Functions:"
   ]
  },
  {
   "cell_type": "code",
   "execution_count": 70,
   "metadata": {},
   "outputs": [],
   "source": [
    "\n",
    "# Function definitions\n",
    "\n",
    "def createNeighborStateMatrix(i, j,state):\n",
    "    Jm1=j-1\n",
    "    Jp1=j+1\n",
    "    Im1=i-1\n",
    "    Ip1=i+1\n",
    "    if(i==0):\n",
    "        Im1=len(state)-1\n",
    "    if(i==len(state)-1):\n",
    "        Ip1=0        \n",
    "    if(j==0):\n",
    "        Jm1=len(state)-1\n",
    "    if(j==len(state)-1):\n",
    "        Jp1=0        \n",
    "    neighborStateMatrix = np.array([[state[Im1, Jm1], state[Im1, j], state[Im1, Jp1]],\n",
    "                           [state[i, Jm1], state[i, j], state[i, Jp1]],\n",
    "                           [state[Ip1, Jm1], state[Ip1, j], state[Ip1, Jp1]]])\n",
    "    return neighborStateMatrix\n",
    "\n",
    "\n",
    "def calculateKroneckerDelta(neighborStateMatrix):\n",
    "    kd = np.zeros([1, 8])\n",
    "    if (neighborStateMatrix[1, 1] == neighborStateMatrix[0, 0]):\n",
    "        kd[0, 0] = 1\n",
    "    if (neighborStateMatrix[1, 1] == neighborStateMatrix[0, 1]):\n",
    "        kd[0, 1] = 1\n",
    "    if (neighborStateMatrix[1, 1] == neighborStateMatrix[0, 2]):\n",
    "        kd[0, 2] = 1\n",
    "    if (neighborStateMatrix[1, 1] == neighborStateMatrix[1, 2]):\n",
    "        kd[0, 3] = 1\n",
    "    if (neighborStateMatrix[1, 1] == neighborStateMatrix[2, 2]):\n",
    "        kd[0, 4] = 1\n",
    "    if (neighborStateMatrix[1, 1] == neighborStateMatrix[2, 1]):\n",
    "        kd[0, 5] = 1\n",
    "    if (neighborStateMatrix[1, 1] == neighborStateMatrix[2, 0]):\n",
    "        kd[0, 6] = 1\n",
    "    if (neighborStateMatrix[1, 1] == neighborStateMatrix[1, 0]):\n",
    "        kd[0, 7] = 1\n",
    "    return sum(sum(kd))\n",
    "\n",
    "\n",
    "def changeState(neighborStateMatrix):\n",
    "    neighborI=1\n",
    "    neighborJ=1\n",
    "    \n",
    "    while (neighborI==1) and (neighborJ==1):\n",
    "        neighborI=np.random.randint(3)\n",
    "        neighborJ=np.random.randint(3)\n",
    "        neighborStateMatrix[1,1]=neighborStateMatrix[neighborI,neighborJ];\n",
    "    return  neighborStateMatrix\n"
   ]
  },
  {
   "cell_type": "markdown",
   "metadata": {},
   "source": [
    "Matrices initialized:"
   ]
  },
  {
   "cell_type": "code",
   "execution_count": 71,
   "metadata": {},
   "outputs": [],
   "source": [
    "state = np.random.randint(Q, size=(x.shape))\n",
    "colormatrix = np.random.rand(Q, 3)\n",
    "neighborStateMatrix = np.zeros([3, 3])\n",
    "\n",
    "# Boundary detection\n",
    "isinside = np.ones(shape=(x.shape))\n",
    "for i in range(0, nlp + 1):\n",
    "    for j in range(0, nlp + 1):\n",
    "        if (i == 0) or (j == 0) or (i == nlp) or (j == nlp):\n",
    "            isinside[i,j] = 0"
   ]
  },
  {
   "cell_type": "markdown",
   "metadata": {},
   "source": [
    "**MCS Loop Starts here:**"
   ]
  },
  {
   "cell_type": "code",
   "execution_count": 72,
   "metadata": {
    "scrolled": true
   },
   "outputs": [
    {
     "data": {
      "image/png": "[encoded data removed]",
      "text/plain": [
       "<Figure size 432x288 with 1 Axes>"
      ]
     },
     "metadata": {
      "needs_background": "light"
     },
     "output_type": "display_data"
    },
    {
     "data": {
      "image/png": "[encoded data removed]",
      "text/plain": [
       "<Figure size 432x288 with 1 Axes>"
      ]
     },
     "metadata": {
      "needs_background": "light"
     },
     "output_type": "display_data"
    },
    {
     "data": {
      "image/png": "[encoded data removed]",
      "text/plain": [
       "<Figure size 432x288 with 1 Axes>"
      ]
     },
     "metadata": {
      "needs_background": "light"
     },
     "output_type": "display_data"
    },
    {
     "data": {
      "image/png": "[encoded data removed]",
      "text/plain": [
       "<Figure size 432x288 with 1 Axes>"
      ]
     },
     "metadata": {
      "needs_background": "light"
     },
     "output_type": "display_data"
    },
    {
     "data": {
      "image/png": "[encoded data removed]",
      "text/plain": [
       "<Figure size 432x288 with 1 Axes>"
      ]
     },
     "metadata": {
      "needs_background": "light"
     },
     "output_type": "display_data"
    },
    {
     "data": {
      "image/png": "[encoded data removed]",
      "text/plain": [
       "<Figure size 432x288 with 1 Axes>"
      ]
     },
     "metadata": {
      "needs_background": "light"
     },
     "output_type": "display_data"
    },
    {
     "data": {
      "image/png": "[encoded data removed]",
      "text/plain": [
       "<Figure size 432x288 with 1 Axes>"
      ]
     },
     "metadata": {
      "needs_background": "light"
     },
     "output_type": "display_data"
    },
    {
     "data": {
      "image/png": "[encoded data removed]",
      "text/plain": [
       "<Figure size 432x288 with 1 Axes>"
      ]
     },
     "metadata": {
      "needs_background": "light"
     },
     "output_type": "display_data"
    },
    {
     "data": {
      "image/png": "[encoded data removed]",
      "text/plain": [
       "<Figure size 432x288 with 1 Axes>"
      ]
     },
     "metadata": {
      "needs_background": "light"
     },
     "output_type": "display_data"
    },
    {
     "data": {
      "image/png": "[encoded data removed]",
      "text/plain": [
       "<Figure size 432x288 with 1 Axes>"
      ]
     },
     "metadata": {
      "needs_background": "light"
     },
     "output_type": "display_data"
    }
   ],
   "source": [
    "for mcs in range(0,100):\n",
    "    for n in range(0, N):\n",
    "        # Pick random lattice cite\n",
    "        i = np.random.randint(0, len(x))\n",
    "        j = np.random.randint(0, len(x))\n",
    "        neighborStateMatrix = createNeighborStateMatrixBoundary(i, j, state)\n",
    "        energyBeforeChange = 8-calculateKroneckerDelta(neighborStateMatrix)\n",
    "        neighborStateMatrix=changeState(neighborStateMatrix)\n",
    "        energyAfterChange = 8-calculateKroneckerDelta(neighborStateMatrix)\n",
    "        dE=energyAfterChange-energyBeforeChange\n",
    "        if dE<0:\n",
    "            state[i,j]=neighborStateMatrix[1,1]\n",
    "    # Plotting as squares\n",
    "    if (mcs%10.0==0):\n",
    "        fig, ax = plt.subplots(1)\n",
    "        for i in range(0, nlp + 1):\n",
    "           for j in range(0, nlp + 1):\n",
    "               rect = patches.Rectangle((x[i, j]-(0.5 / nlp), y[i, j]-(0.5 / nlp)), 1.0 / nlp, 1.0 / nlp,linewidth=1, edgecolor='none', facecolor=colormatrix[state[i, j], :])\n",
    "               ax.add_patch(rect)\n",
    "        plt.gca().set_aspect('equal', adjustable='box')\n",
    "        display.display(plt.gcf())\n",
    "        display.clear_output(wait=True)"
   ]
  }
 ],
 "metadata": {
  "kernelspec": {
   "display_name": "Python 3",
   "language": "python",
   "name": "python3"
  },
  "language_info": {
   "codemirror_mode": {
    "name": "ipython",
    "version": 3
   },
   "file_extension": ".py",
   "mimetype": "text/x-python",
   "name": "python",
   "nbconvert_exporter": "python",
   "pygments_lexer": "ipython3",
   "version": "3.7.3"
  }
 },
 "nbformat": 4,
 "nbformat_minor": 2
}
