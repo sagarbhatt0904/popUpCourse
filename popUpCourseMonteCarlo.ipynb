{
 "cells": [
  {
   "cell_type": "markdown",
   "metadata": {},
   "source": [
    "[Title - Edit?]\n",
    "# Pop-Up Course: Better metal forming by linking experiment, modeling, and process control  \n",
    "#### July 29-30, 2019\n",
    "\n",
    "## Monte Carlo Grain Growth Simulation"
   ]
  },
  {
   "cell_type": "markdown",
   "metadata": {},
   "source": [
    "[Introduction] + theory "
   ]
  },
  {
   "cell_type": "markdown",
   "metadata": {},
   "source": [
    "[Code Intro/Algo] explaination"
   ]
  },
  {
   "cell_type": "code",
   "execution_count": 1,
   "metadata": {},
   "outputs": [],
   "source": [
    "# Import required libraries\n",
    "\n",
    "import numpy as np\n",
    "import matplotlib.pyplot as plt\n",
    "import random\n",
    "\n",
    "# Inline Plots\n",
    "\n",
    "%matplotlib inline"
   ]
  },
  {
   "cell_type": "code",
   "execution_count": 2,
   "metadata": {},
   "outputs": [],
   "source": [
    "\"\"\" \n",
    "Function to calculate distance between 2 points\n",
    "Needs the points in form of numpy array, returns the scalar distance\n",
    "\"\"\"\n",
    "\n",
    "def EucDist2D(x1,x2):\n",
    "    dist=np.linalg.norm(x1-x2)\n",
    "    return dist"
   ]
  },
  {
   "cell_type": "code",
   "execution_count": 16,
   "metadata": {},
   "outputs": [],
   "source": [
    "nSeeds= 10  # Seeds to start tesselation\n",
    "N = 100 # Square Domain size\n",
    "N2D=N**N\n",
    "x=np.linspace(0,N,N)\n",
    "y=np.linspace(0,N,N)\n",
    "seedCoord=np.zeros([nSeeds,2])\n",
    "for i in range(0, nSeeds):\n",
    "    seedCoord[i,0] = random.randint(0, N)\n",
    "    seedCoord[i,1] = random.randint(0, N)"
   ]
  },
  {
   "cell_type": "code",
   "execution_count": 17,
   "metadata": {},
   "outputs": [],
   "source": [
    "dist=np.zeros([nSeeds,1])\n",
    "grainID=np.zeros([N,N])\n",
    "for i in range(0,N):\n",
    "    for j in range(0,N):\n",
    "        minDist=float(\"inf\")\n",
    "        for k in range(0,nSeeds):\n",
    "            dist[k]=EucDist2D(seedCoord[k],np.array([x[i],y[j]]))\n",
    "        grainID[i,j]=np.argmin(dist)\n",
    "                \n",
    "    "
   ]
  },
  {
   "cell_type": "code",
   "execution_count": 18,
   "metadata": {},
   "outputs": [
    {
     "data": {
      "text/plain": [
       "<matplotlib.contour.QuadContourSet at 0x7fad3f405450>"
      ]
     },
     "execution_count": 18,
     "metadata": {},
     "output_type": "execute_result"
    },
    {
     "data": {
      "image/png": "[encoded data removed]",
      "text/plain": [
       "<matplotlib.figure.Figure at 0x7fad3f495550>"
      ]
     },
     "metadata": {},
     "output_type": "display_data"
    }
   ],
   "source": [
    "plt.contourf(grainID)"
   ]
  }
 ],
 "metadata": {
  "kernelspec": {
   "display_name": "Python 2",
   "language": "python",
   "name": "python2"
  },
  "language_info": {
   "codemirror_mode": {
    "name": "ipython",
    "version": 2
   },
   "file_extension": ".py",
   "mimetype": "text/x-python",
   "name": "python",
   "nbconvert_exporter": "python",
   "pygments_lexer": "ipython2",
   "version": "2.7.15+"
  }
 },
 "nbformat": 4,
 "nbformat_minor": 2
}
