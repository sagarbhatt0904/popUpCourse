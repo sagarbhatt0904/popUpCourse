{
 "cells": [
  {
   "cell_type": "markdown",
   "metadata": {},
   "source": [
    "# Pop-Up Course: Better metal forming by linking experiment, modeling, and process control  \n",
    "#### July 29-30, 2019\n",
    "\n",
    "## Monte Carlo Grain Growth Simulation"
   ]
  },
  {
   "cell_type": "markdown",
   "metadata": {},
   "source": [
    "### What are grains and grain boundaries?\n",
    "\n",
    "A crystalline material is one in which atoms are arranged on well-defined, periodic, crystallographic planes. A polycrystalline material can be defined as one in which crystalline regions or domains are separated by well-defined boundaries. Such domains are called grains, and the boundaries separating them are known as grain boundaries. While grains are crystalline and hence 'ordered' in nature, the grain boundaries are disordered, i.e., atoms in the grain boundaries are irregularly arranged. The disordered nature of a grain boundary results in an excess free energy compared to the bulk grain. \n",
    "\n",
    "\n",
    "### Why are grain boundaries important to a material?\n",
    "\n",
    "Grain boundaries disrupt the continuity in the ordered arrangement of atoms. Since they resist the movement of dislocations, an additional stress is required to propogate dislocations through the material, i.e., cause plastic deformation. This increases the material's yield strength, as summarised in the Hall-Petch relationship: $\\sigma \\propto \\frac{1}{\\sqrt{d}}$. The difference in the arrangement of atoms in a grain boundary and a grain result in different atomic mobilities, thereby impacting diffusivity of atoms. Grain boundaries also act as sites of segregation for solute atoms and other impurities, thereby increasing the effective solubility limit of a solute in the material. \n",
    "\n",
    "\n",
    "### Why does grain growth occur?\n",
    "\n",
    "Grain boundaries are regions of disordered material and thus have an excess free energy associated with them. A polycrystalline material thus contains excess energy proportional to the grain boundary area, and tends to reduce this energy through grain growth. The direction of grain growth is provided by the curvature of grain boundaries, with the growth always directed towards the center of curvature. Burke provided a mathematical construct for quantifying grain growth in isothermal conditions:\n",
    "\n",
    "\\begin{equation} \\label{eqn:burke-turnbull}\n",
    "D^{n}-{D_{0}}^{n} = kt\n",
    "\\end{equation}\n",
    "\n",
    "where $D_{0}$ and $D$ are mean grain diameters at times 0 and t respectively, and n is the grain size exponent. When grain growth is driven only by curvature, n assumes a value of two(uninhibited growth). However, when factors such as solute segregation impacts the growth kinetics, n can assume a different value(inhibited growth). Examples of these two cases are shown in the next section. \n",
    "\n",
    "Applications based on nanocrystalline materials require a strict control of average grain size. Approaches such as grain boundary pinning by precipitates and inhibition of growth by solute segregation are quite common for applications that require a high degree of grain size stability. \n",
    "\n",
    "\n",
    "\n",
    "\n",
    "\n",
    "\n",
    "\n",
    "\n"
   ]
  },
  {
   "cell_type": "markdown",
   "metadata": {},
   "source": [
    "## Grain Growth, visualized in 2 dimensions\n",
    "\n",
    "<img src = \"gg.gif\">"
   ]
  },
  {
   "cell_type": "markdown",
   "metadata": {},
   "source": [
    "## Grain Growth, visualized in 3 dimensions\n",
    "\n",
    "![GGUrl](https://upload.wikimedia.org/wikipedia/commons/3/38/Grgr3d_small.gif)"
   ]
  },
  {
   "cell_type": "markdown",
   "metadata": {},
   "source": [
    "## Uninhibited and inhibited grain growth\n",
    "\n",
    "The two major types of growth kinetics introduced in the first section are demonstrated below. There are two datafiles in the directory. They contain time vs grain diameter, but grain growth has been simulated with different conditions in the two cases. Consider the following as a simple exercise in python to load a datafile using pandas, plot time vs grain area, and fit the curve using a n-degree polynomial! "
   ]
  },
  {
   "cell_type": "code",
   "execution_count": 13,
   "metadata": {},
   "outputs": [
    {
     "data": {
      "image/png": "[encoded data removed]",
      "text/plain": [
       "<Figure size 432x288 with 1 Axes>"
      ]
     },
     "metadata": {
      "needs_background": "light"
     },
     "output_type": "display_data"
    }
   ],
   "source": [
    "import pandas as pd\n",
    "import numpy as np\n",
    "from matplotlib import pyplot as plt\n",
    "df = pd.read_csv(\"Lin.txt\", sep = '\\t', header=None, names=['t', 'area', 'dia'])\n",
    "time = df['t']\n",
    "d = df['area']\n",
    "c1, c2, c3 = np.polyfit(time, d, 2)\n",
    "\n",
    "plt.plot(time, d, color = 'b', label = 'original')\n",
    "plt.plot(time, c3 + c2*time + c1*time*time, color = 'r', label = 'fit')\n",
    "plt.legend()\n",
    "plt.show()"
   ]
  },
  {
   "cell_type": "code",
   "execution_count": 14,
   "metadata": {},
   "outputs": [
    {
     "data": {
      "image/png": "[encoded data removed]",
      "text/plain": [
       "<Figure size 432x288 with 1 Axes>"
      ]
     },
     "metadata": {
      "needs_background": "light"
     },
     "output_type": "display_data"
    }
   ],
   "source": [
    "df1 = pd.read_csv(\"NonLin.txt\", sep = '\\t', header=None, names=['t', 'area', 'dia', 'a', 'b', 'c', 'd'])\n",
    "time1 = df1['t']\n",
    "d1 = df1['area']\n",
    "c1, c2, c3, c4 = np.polyfit(time1, d1, 3)\n",
    "\n",
    "plt.plot(time1, d1, color = 'b', label = 'original')\n",
    "plt.plot(time1, c4 + c3*time1 + c2*time1*time1 + c1*time1**3, color = 'r', label = 'fit')\n",
    "plt.legend()\n",
    "plt.show()"
   ]
  },
  {
   "cell_type": "markdown",
   "metadata": {},
   "source": [
    "\n",
    "### The Monte-Carlo Method\n",
    "#### The Algorithm:\n",
    "MC method based on Potts model has been used here, and is given by the following steps:\n",
    "* A lattice site $i$, located at $x_i$, is selected out of total number of sites, $N_L$, based on a site selection probability.\n",
    "* The orientation of site $i$, $S^0_i$, is switched randomly to one of its neighbor's, $S^n_i$, and a change in energy $\\Delta E$ is computed by:\n",
    "$$\\Delta E=J\\sum_{j=1}^{N_n} [\\delta(S^0_i,S^j_i)-\\delta(S^n_i,S^j_i)]$$\n",
    "where, $N_n$ is total number of neighbouring lattice sites, $\\delta$ is Kronecker delta function and $J$ is specific grain boundary energy.\n",
    "* The final orientation is accepted with the probability:\n",
    "$$\\check{P}(\\Delta E, T(x_i))= \\begin{cases} 1  & if \\Delta E \\leq 0, \\\\ e^{-\\Delta E/k_BT_s} & if \\Delta E >0 \\end{cases} $$\n",
    "$N_L$ reorientation attempts over the entire domain is considered a global MC step."
   ]
  },
  {
   "cell_type": "code",
   "execution_count": 15,
   "metadata": {},
   "outputs": [],
   "source": [
    "# Import required libraries\n",
    "\n",
    "import matplotlib.patches as patches\n",
    "from IPython import display\n",
    "import time\n",
    "\n",
    "# Inline Plots\n",
    "%matplotlib inline"
   ]
  },
  {
   "cell_type": "markdown",
   "metadata": {},
   "source": [
    "Make a 2D square lattice:"
   ]
  },
  {
   "cell_type": "code",
   "execution_count": 9,
   "metadata": {},
   "outputs": [],
   "source": [
    "nlp = 20  # number of lattice points\n",
    "Nmcs=50 # number of monte carlo steps\n",
    "N = (nlp + 1) * (nlp + 1)\n",
    "Q = N  # Number of states in Q-state potts model\n",
    "X = np.linspace(0, 1, nlp + 1)\n",
    "x, y = np.meshgrid(X, X)"
   ]
  },
  {
   "cell_type": "markdown",
   "metadata": {},
   "source": [
    "### Functions:"
   ]
  },
  {
   "cell_type": "markdown",
   "metadata": {},
   "source": [
    "#### Neighborhood matrix and figure of a 3x3 lattice"
   ]
  },
  {
   "cell_type": "markdown",
   "metadata": {},
   "source": [
    "This function creates a matrix that contains the state/orientation of all the neighboring lattice points of the selected lattice point.\n",
    "<img src = \"1.png\" width=\"200\">"
   ]
  },
  {
   "cell_type": "code",
   "execution_count": 3,
   "metadata": {},
   "outputs": [],
   "source": [
    "def createNeighborStateMatrix(i, j,state):\n",
    "    Jm1=j-1\n",
    "    Jp1=j+1\n",
    "    Im1=i-1\n",
    "    Ip1=i+1\n",
    "    \n",
    "    # Periodic Boundary Condition\n",
    "    if(i==0):\n",
    "        Im1=len(state)-1\n",
    "    if(i==len(state)-1):\n",
    "        Ip1=0        \n",
    "    if(j==0):\n",
    "        Jm1=len(state)-1\n",
    "    if(j==len(state)-1):\n",
    "        Jp1=0\n",
    "    # 3x3 matrix of state all cells surrounding current lattice point\n",
    "    neighborStateMatrix = np.array([[state[Im1, Jm1], state[Im1, j], state[Im1, Jp1]],\n",
    "                           [state[i, Jm1], state[i, j], state[i, Jp1]],\n",
    "                           [state[Ip1, Jm1], state[Ip1, j], state[Ip1, Jp1]]])\n",
    "    return neighborStateMatrix\n"
   ]
  },
  {
   "cell_type": "markdown",
   "metadata": {},
   "source": [
    "#### Formula for Energy change and kronecker delta and explaination\n",
    "\n",
    "This function calculates summation of the Kronecker Delta of a given state matrix for the following formula:\n",
    "\n",
    "$$\n",
    "\\Delta E=J \\sum_{j=1}^{N_{n}}\\left[\\delta\\left(S_{i}^{0}, S_{i}^{j}\\right)-\\delta\\left(S_{i}^{n}, S_{i}^{j}\\right)\\right]\n",
    "$$"
   ]
  },
  {
   "cell_type": "code",
   "execution_count": 4,
   "metadata": {},
   "outputs": [],
   "source": [
    "def calculateKroneckerDelta(neighborStateMatrix):\n",
    "    kd = np.zeros([1, 8])\n",
    "    if (neighborStateMatrix[1, 1] == neighborStateMatrix[0, 0]):\n",
    "        kd[0, 0] = 1\n",
    "    if (neighborStateMatrix[1, 1] == neighborStateMatrix[0, 1]):\n",
    "        kd[0, 1] = 1\n",
    "    if (neighborStateMatrix[1, 1] == neighborStateMatrix[0, 2]):\n",
    "        kd[0, 2] = 1\n",
    "    if (neighborStateMatrix[1, 1] == neighborStateMatrix[1, 2]):\n",
    "        kd[0, 3] = 1\n",
    "    if (neighborStateMatrix[1, 1] == neighborStateMatrix[2, 2]):\n",
    "        kd[0, 4] = 1\n",
    "    if (neighborStateMatrix[1, 1] == neighborStateMatrix[2, 1]):\n",
    "        kd[0, 5] = 1\n",
    "    if (neighborStateMatrix[1, 1] == neighborStateMatrix[2, 0]):\n",
    "        kd[0, 6] = 1\n",
    "    if (neighborStateMatrix[1, 1] == neighborStateMatrix[1, 0]):\n",
    "        kd[0, 7] = 1\n",
    "    return sum(sum(kd))\n",
    "\n"
   ]
  },
  {
   "cell_type": "markdown",
   "metadata": {},
   "source": [
    "#### Some text about randomly flipping orientaiton and a 3x3 figure with different state\n",
    "This function flips the orientation of a lattice point randomly to one of its neighbor as demonstrated in the following figure\n",
    "\n",
    "\n",
    "<img src = \"latticeChange.gif\" width=\"200\">"
   ]
  },
  {
   "cell_type": "code",
   "execution_count": 5,
   "metadata": {},
   "outputs": [],
   "source": [
    "\n",
    "def changeState(neighborStateMatrix):\n",
    "    neighborI=1\n",
    "    neighborJ=1\n",
    "    \n",
    "    while (neighborI==1) and (neighborJ==1):\n",
    "        neighborI=np.random.randint(3)\n",
    "        neighborJ=np.random.randint(3)\n",
    "        neighborStateMatrix[1,1]=neighborStateMatrix[neighborI,neighborJ];\n",
    "    return  neighborStateMatrix\n"
   ]
  },
  {
   "cell_type": "markdown",
   "metadata": {},
   "source": [
    "**MC Loop:**"
   ]
  },
  {
   "cell_type": "code",
   "execution_count": 12,
   "metadata": {
    "scrolled": true
   },
   "outputs": [
    {
     "data": {
      "image/png": "[encoded data removed]",
      "text/plain": [
       "<Figure size 432x288 with 1 Axes>"
      ]
     },
     "metadata": {
      "needs_background": "light"
     },
     "output_type": "display_data"
    },
    {
     "data": {
      "image/png": "[encoded data removed]",
      "text/plain": [
       "<Figure size 432x288 with 1 Axes>"
      ]
     },
     "metadata": {
      "needs_background": "light"
     },
     "output_type": "display_data"
    },
    {
     "data": {
      "image/png": "[encoded data removed]",
      "text/plain": [
       "<Figure size 432x288 with 1 Axes>"
      ]
     },
     "metadata": {
      "needs_background": "light"
     },
     "output_type": "display_data"
    },
    {
     "data": {
      "image/png": "[encoded data removed]",
      "text/plain": [
       "<Figure size 432x288 with 1 Axes>"
      ]
     },
     "metadata": {
      "needs_background": "light"
     },
     "output_type": "display_data"
    },
    {
     "data": {
      "image/png": "[encoded data removed]",
      "text/plain": [
       "<Figure size 432x288 with 1 Axes>"
      ]
     },
     "metadata": {
      "needs_background": "light"
     },
     "output_type": "display_data"
    }
   ],
   "source": [
    "state = np.random.randint(Q, size=(x.shape))\n",
    "colormatrix = np.random.rand(Q, 3)\n",
    "neighborStateMatrix = np.zeros([3, 3])\n",
    "for mcs in range(0,Nmcs):\n",
    "    for n in range(0, N):\n",
    "        # Pick random lattice cite\n",
    "        i = np.random.randint(0, len(x))\n",
    "        j = np.random.randint(0, len(x))\n",
    "        neighborStateMatrix = createNeighborStateMatrix(i, j, state)\n",
    "        energyBeforeChange = calculateKroneckerDelta(neighborStateMatrix)\n",
    "        neighborStateMatrix=changeState(neighborStateMatrix)\n",
    "        energyAfterChange = calculateKroneckerDelta(neighborStateMatrix)\n",
    "        dE=energyBeforeChange-energyAfterChange\n",
    "        if dE<0:\n",
    "            state[i,j]=neighborStateMatrix[1,1]\n",
    "    # Plotting as squares\n",
    "    if (mcs%10.0==0):\n",
    "        fig, ax = plt.subplots(1)\n",
    "        for i in range(0, nlp + 1):\n",
    "           for j in range(0, nlp + 1):\n",
    "               rect = patches.Rectangle((x[i, j]-(0.5 / nlp), y[i, j]-(0.5 / nlp)), 1.0 / nlp, 1.0 / nlp,linewidth=1, edgecolor='none', facecolor=colormatrix[state[i, j], :])\n",
    "               ax.add_patch(rect)\n",
    "        plt.gca().set_aspect('equal', adjustable='box')\n",
    "        plt.axis('off')\n",
    "        plt.title(\"MCS = %d\"%mcs)\n",
    "        display.display(plt.gcf())\n",
    "        display.clear_output(wait=True)"
   ]
  },
  {
   "cell_type": "markdown",
   "metadata": {},
   "source": [
    "MC simulation results can be related to physical processes by fitting experimental data. In MC simulations, the evolution of average grain size, $\\bar{D}$, follows:\n",
    "$$\\bar{D}^m - \\bar{D}^m_0 = \\lambda^mCt_{mc}$$\n",
    "Where, $m$ and $C$ are parameters fitted from simulations. Experimental studies have shown that grain growth physics for constant temperature is captured by the following model:\n",
    "$$\\bar{D}^n - \\bar{D}^n_0 =Kt \\ e^{-Q/RT }$$\n",
    "\n",
    "<br\\>\n",
    "\n",
    "Following the curve fitting exercise we did earlier, let us load some simulation data ad fit it to experimental data:\n"
   ]
  },
  {
   "cell_type": "code",
   "execution_count": null,
   "metadata": {},
   "outputs": [],
   "source": []
  }
 ],
 "metadata": {
  "kernelspec": {
   "display_name": "Python 3",
   "language": "python",
   "name": "python3"
  },
  "language_info": {
   "codemirror_mode": {
    "name": "ipython",
    "version": 3
   },
   "file_extension": ".py",
   "mimetype": "text/x-python",
   "name": "python",
   "nbconvert_exporter": "python",
   "pygments_lexer": "ipython3",
   "version": "3.7.3"
  }
 },
 "nbformat": 4,
 "nbformat_minor": 2
}
